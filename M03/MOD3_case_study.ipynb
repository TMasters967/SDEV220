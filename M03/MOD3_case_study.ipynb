{
 "cells": [
  {
   "cell_type": "markdown",
   "metadata": {},
   "source": [
    "Name: Troy Masters\n",
    "Program: MOD3_Case_Study.py\n",
    "Description: This program takes user input about their vehicle and prints their responses in a formatted way.\n",
    "Variables: vehicle_type-car, boat, plane etc., year- of car, make, model, doors-number of, roof- sun or solid"
   ]
  },
  {
   "cell_type": "code",
   "execution_count": 1,
   "metadata": {},
   "outputs": [
    {
     "name": "stdout",
     "output_type": "stream",
     "text": [
      "Enter your vehicle information: \n",
      "Vehicle Information:\n",
      "Vehicle Type: car\n",
      "Year: 2023\n",
      "Make: ford\n",
      "Model: mustang\n",
      "Number of doors: 2\n",
      "Type of roof: sun\n"
     ]
    }
   ],
   "source": [
    "class Vehicle:\n",
    "  # Represents a type of vehicle ( car, truck, boat,, plane, etc)\n",
    "    def __init__(self, vehicle_type):\n",
    "        self.vehicle_type = vehicle_type\n",
    "\n",
    "\n",
    "class Automobile(Vehicle):\n",
    "  # Represents an automobile, a type of vehicle\n",
    "    def __init__(self, vehicle_type, year, make, model, doors, roof):\n",
    "        super().__init__(vehicle_type)\n",
    "        self.year = year\n",
    "        self.make = make\n",
    "        self.model = model\n",
    "        self.doors = doors\n",
    "        self.roof = roof\n",
    "\n",
    "\n",
    "    def display_info(self):\n",
    "      # Sets how the user input will be displayed\n",
    "        print(\"Vehicle Type:\", self.vehicle_type)\n",
    "        print(\"Year:\", self.year)\n",
    "        print(\"Make:\", self.make)\n",
    "        print(\"Model:\", self.model)\n",
    "        print(\"Number of doors:\", self.doors)\n",
    "        print(\"Type of roof:\", self.roof)\n",
    "\n",
    "\n",
    "def main():\n",
    "  # Main function for user input and displaying vehicle information\n",
    "    print(\"Enter your vehicle information: \")\n",
    "    vehicle_type = input(\"Vehicle Type: \")\n",
    "    year = input(\"Year: \")\n",
    "    make = input(\"Make: \")\n",
    "    model = input(\"Model: \")\n",
    "    doors = input(\"Number of doors (2 or 4): \")\n",
    "    roof = input(\"Type of roof (solid or sun): \")\n",
    "\n",
    "    vehicle = Automobile(vehicle_type, year, make, model, doors, roof)\n",
    "    \n",
    "    print(\"Vehicle Information:\")\n",
    "    \n",
    "    vehicle.display_info()\n",
    "\n",
    "if __name__ == \"__main__\":\n",
    "    main()"
   ]
  }
 ],
 "metadata": {
  "kernelspec": {
   "display_name": "Python 3",
   "language": "python",
   "name": "python3"
  },
  "language_info": {
   "codemirror_mode": {
    "name": "ipython",
    "version": 3
   },
   "file_extension": ".py",
   "mimetype": "text/x-python",
   "name": "python",
   "nbconvert_exporter": "python",
   "pygments_lexer": "ipython3",
   "version": "3.11.4"
  },
  "orig_nbformat": 4
 },
 "nbformat": 4,
 "nbformat_minor": 2
}
