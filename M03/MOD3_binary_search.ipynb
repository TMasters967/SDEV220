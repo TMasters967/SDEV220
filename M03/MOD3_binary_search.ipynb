{
 "cells": [
  {
   "cell_type": "code",
   "execution_count": null,
   "metadata": {},
   "outputs": [],
   "source": [
    "def binarysearch(arr, N, K):\n",
    "    left, right = 0, N - 1\n",
    "\n",
    "    while left <= right:\n",
    "        mid = left + (right - left) // 2  # Calculate the middle index\n",
    "\n",
    "        if arr[mid] == K:\n",
    "            return mid  # Found the element, return its index\n",
    "        elif arr[mid] < K:\n",
    "            left = mid + 1  # Search the right half\n",
    "        else:\n",
    "            right = mid - 1  # Search the left half\n",
    "\n",
    "    return -1  # Element not found\n",
    "\n",
    "# Example usage:\n",
    "arr = [11, 22, 33, 44, 55]\n",
    "N = len(arr)\n",
    "K = 22\n",
    "result = binarysearch(arr, N, K)\n",
    "print(result)\n"
   ]
  }
 ],
 "metadata": {
  "language_info": {
   "name": "python"
  },
  "orig_nbformat": 4
 },
 "nbformat": 4,
 "nbformat_minor": 2
}
