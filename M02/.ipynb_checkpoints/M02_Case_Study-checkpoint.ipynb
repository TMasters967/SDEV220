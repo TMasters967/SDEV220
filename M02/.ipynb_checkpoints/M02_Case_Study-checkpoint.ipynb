{
 "cells": [
  {
   "cell_type": "markdown",
   "metadata": {},
   "source": [
    "'''\n",
    "Name: Troy Masters\n",
    "App: honor_roll.ipynb\n",
    "Description: his app will accept a student's name and GPA and \n",
    "determine if they made the dean's list or honor roll.\n",
    "'''"
   ]
  },
  {
   "cell_type": "code",
   "execution_count": null,
   "metadata": {},
   "outputs": [
    {
     "name": "stdout",
     "output_type": "stream",
     "text": [
      "Enter student's last name or ZZZ to quit: m\n",
      "Enter student's first name: l\n",
      "Enter student's grade point average: 3.2\n"
     ]
    }
   ],
   "source": [
    "while True:\n",
    "    lname = input(\"Enter student's last name or ZZZ to quit: \")\n",
    "    if lname == 'ZZZ':\n",
    "        break\n",
    "    fname = input(\"Enter student's first name: \")\n",
    "    gpa = float(input(\"Enter student's grade point average: \"))\n",
    "    if gpa >= 3.5:\n",
    "        print(f\"Congratulations {fname} {lname} your GPA of {gpa} qualifies you for the Dean's List!\")\n",
    "    elif gpa >= 3.25:\n",
    "        print(f\"Congratulations {fname} {lname} your GPA of {gpa} qualifies you for the Honor Roll!\")\n",
    "    else:\n",
    "        print(\"Keep trying\")\n"
   ]
  }
 ],
 "metadata": {
  "kernelspec": {
   "display_name": "Python 3 (ipykernel)",
   "language": "python",
   "name": "python3"
  },
  "language_info": {
   "codemirror_mode": {
    "name": "ipython",
    "version": 3
   },
   "file_extension": ".py",
   "mimetype": "text/x-python",
   "name": "python",
   "nbconvert_exporter": "python",
   "pygments_lexer": "ipython3",
   "version": "3.11.4"
  }
 },
 "nbformat": 4,
 "nbformat_minor": 2
}
