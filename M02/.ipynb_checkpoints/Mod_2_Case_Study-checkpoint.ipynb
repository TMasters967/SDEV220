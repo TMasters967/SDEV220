{
 "cells": [
  {
   "cell_type": "markdown",
   "id": "6ab9f747",
   "metadata": {},
   "source": [
    "Mod_2_Case_Study\n",
    "Troy Masters\n",
    "This app will ask for a student'e name and GPA and determine if they have made the Dean's list or Honor Roll"
   ]
  },
  {
   "cell_type": "code",
   "execution_count": null,
   "id": "ef1114a1",
   "metadata": {},
   "outputs": [
    {
     "name": "stdout",
     "output_type": "stream",
     "text": [
      "Enter student's last name or ZZZ to quit: jones\n",
      "Enter student's first name: tom\n",
      "Enter student's grade point average: 3.55\n",
      "Congratulations tom jones your GPA of 3.55 qualifies you for the Dean's List!\n",
      "Enter student's last name or ZZZ to quit: smith\n",
      "Enter student's first name: jon\n",
      "Enter student's grade point average: 3.25\n",
      "Congratulations jon smith your GPA of 3.25 qualifies you for the Honor Roll!\n",
      "Enter student's last name or ZZZ to quit: nelson\n",
      "Enter student's first name: jim\n",
      "Enter student's grade point average: 3.0\n",
      "Keep trying\n",
      "Enter student's last name or ZZZ to quit: collins\n",
      "Enter student's first name: tim\n",
      "Enter student's grade point average: 4.0\n",
      "Congratulations tim collins your GPA of 4.0 qualifies you for the Dean's List!\n",
      "Enter student's last name or ZZZ to quit: bland\n",
      "Enter student's first name: dan\n",
      "Enter student's grade point average: 3.24\n",
      "Keep trying\n"
     ]
    }
   ],
   "source": [
    "while True:\n",
    "    lname = input(\"Enter student's last name or ZZZ to quit: \")\n",
    "    if lname == 'ZZZ':\n",
    "        break\n",
    "    fname = input(\"Enter student's first name: \")\n",
    "    gpa = float(input(\"Enter student's grade point average: \"))\n",
    "    if gpa >= 3.5:\n",
    "        print(f\"Congratulations {fname} {lname} your GPA of {gpa} qualifies you for the Dean's List!\")\n",
    "    elif gpa >= 3.25:\n",
    "        print(f\"Congratulations {fname} {lname} your GPA of {gpa} qualifies you for the Honor Roll!\")\n",
    "    else:\n",
    "        print(\"Keep trying\")\n"
   ]
  },
  {
   "cell_type": "code",
   "execution_count": null,
   "id": "834afc96",
   "metadata": {},
   "outputs": [],
   "source": []
  }
 ],
 "metadata": {
  "kernelspec": {
   "display_name": "Python 3 (ipykernel)",
   "language": "python",
   "name": "python3"
  },
  "language_info": {
   "codemirror_mode": {
    "name": "ipython",
    "version": 3
   },
   "file_extension": ".py",
   "mimetype": "text/x-python",
   "name": "python",
   "nbconvert_exporter": "python",
   "pygments_lexer": "ipython3",
   "version": "3.11.4"
  }
 },
 "nbformat": 4,
 "nbformat_minor": 5
}
