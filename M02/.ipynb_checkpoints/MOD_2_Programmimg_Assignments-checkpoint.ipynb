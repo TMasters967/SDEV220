{
 "cells": [
  {
   "cell_type": "markdown",
   "id": "3bf1b18e",
   "metadata": {},
   "source": [
    "Ex 4.1"
   ]
  },
  {
   "cell_type": "code",
   "execution_count": 1,
   "id": "b21068b5",
   "metadata": {},
   "outputs": [
    {
     "name": "stdout",
     "output_type": "stream",
     "text": [
      "too low\n"
     ]
    }
   ],
   "source": [
    "## Set variables\n",
    "secret = 8\n",
    "guess = 5\n",
    "\n",
    "# Determine if guess is correct, high, or low\n",
    "if guess == secret:\n",
    "    print('just right')\n",
    "elif guess > secret:\n",
    "    print('too high')\n",
    "else:\n",
    "    print('too low')"
   ]
  },
  {
   "cell_type": "markdown",
   "id": "e7941417",
   "metadata": {},
   "source": [
    "Ex 4.2"
   ]
  },
  {
   "cell_type": "code",
   "execution_count": 4,
   "id": "cc53b0e9",
   "metadata": {},
   "outputs": [
    {
     "name": "stdout",
     "output_type": "stream",
     "text": [
      "Choice is a watermelon.\n"
     ]
    }
   ],
   "source": [
    "# Set variables\n",
    "green = True\n",
    "small = False\n",
    "\n",
    "# Determine which fruit/ veg is selected\n",
    "if green:\n",
    "    if small:\n",
    "        print(\"Choice is a pea.\")\n",
    "    else:\n",
    "        print(\"Choice is a watermelon.\")\n",
    "elif small:\n",
    "    print(\"Choice is a cherry.\")\n",
    "else:\n",
    "    print(\"Choice is a pumpkin.\")"
   ]
  },
  {
   "cell_type": "markdown",
   "id": "08e165e7",
   "metadata": {},
   "source": [
    "Ex 6.1"
   ]
  },
  {
   "cell_type": "code",
   "execution_count": 5,
   "id": "d4710409",
   "metadata": {},
   "outputs": [
    {
     "name": "stdout",
     "output_type": "stream",
     "text": [
      "3\n",
      "2\n",
      "1\n",
      "0\n"
     ]
    }
   ],
   "source": [
    "# Use a for loop to iterate through a list and print the numbers in the list\n",
    "lst = [3, 2, 1, 0]\n",
    "for num in lst:\n",
    "    print(num)"
   ]
  },
  {
   "cell_type": "markdown",
   "id": "35e1e3d3",
   "metadata": {},
   "source": [
    "Ex 6.2"
   ]
  },
  {
   "cell_type": "code",
   "execution_count": 6,
   "id": "f1e3289c",
   "metadata": {},
   "outputs": [
    {
     "name": "stdout",
     "output_type": "stream",
     "text": [
      "Too low\n",
      "Too low\n",
      "Too low\n",
      "Too low\n",
      "Too low\n",
      "Too low\n",
      "Found it!\n"
     ]
    }
   ],
   "source": [
    "# Set variables\n",
    "guess_me = 7\n",
    "number = 1\n",
    "\n",
    "# Iterate through the numbers starting at 1 until guess_me is right or number is greater than 7\n",
    "while number <= guess_me:\n",
    "    if number < guess_me:\n",
    "        print('Too low')\n",
    "    elif number == guess_me:\n",
    "        print('Found it!')\n",
    "        break    \n",
    "    else:\n",
    "        print('oops')\n",
    "        break\n",
    "    number += 1"
   ]
  },
  {
   "cell_type": "code",
   "execution_count": null,
   "id": "b4e05200",
   "metadata": {},
   "outputs": [],
   "source": [
    "Ex 6.3"
   ]
  },
  {
   "cell_type": "code",
   "execution_count": 7,
   "id": "ff5d8eae",
   "metadata": {},
   "outputs": [
    {
     "name": "stdout",
     "output_type": "stream",
     "text": [
      "Too low\n",
      "Too low\n",
      "Too low\n",
      "Too low\n",
      "Too low\n",
      "Found it!\n"
     ]
    }
   ],
   "source": [
    "# Set variables\n",
    "guess_me = 5\n",
    "number = 1\n",
    "\n",
    "# Iterate through the range of numbers starting at 0 until guess_me is correct or number is greater than 9\n",
    "\n",
    "for number in range(10):\n",
    "    if number < guess_me:\n",
    "        print('Too low')\n",
    "    elif number == guess_me:\n",
    "        print('Found it!')\n",
    "        break\n",
    "    else:\n",
    "        print('oops')\n",
    "        break\n",
    "\n",
    "    number += 1"
   ]
  }
 ],
 "metadata": {
  "kernelspec": {
   "display_name": "Python 3 (ipykernel)",
   "language": "python",
   "name": "python3"
  },
  "language_info": {
   "codemirror_mode": {
    "name": "ipython",
    "version": 3
   },
   "file_extension": ".py",
   "mimetype": "text/x-python",
   "name": "python",
   "nbconvert_exporter": "python",
   "pygments_lexer": "ipython3",
   "version": "3.11.4"
  }
 },
 "nbformat": 4,
 "nbformat_minor": 5
}
